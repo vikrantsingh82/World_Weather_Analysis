{
 "cells": [
  {
   "cell_type": "code",
   "execution_count": 2,
   "metadata": {},
   "outputs": [
    {
     "data": {
      "text/plain": [
       "6.0432"
      ]
     },
     "execution_count": 2,
     "metadata": {},
     "output_type": "execute_result"
    }
   ],
   "source": [
    "# Import the random module.\n",
    "import random\n",
    "# Import the NumPy module.\n",
    "import numpy as np\n",
    "random.random()\n",
    "random.randint(9,100)\n",
    "\n",
    "random.randrange(-9,90,2)\n",
    "\n",
    "round(random.uniform(-10,10), 4)"
   ]
  },
  {
   "cell_type": "code",
   "execution_count": 3,
   "metadata": {},
   "outputs": [
    {
     "data": {
      "text/plain": [
       "[30.330884360995984,\n",
       " 74.85719721526537,\n",
       " 47.08970004469853,\n",
       " -26.111141122957513,\n",
       " 48.8167865887343,\n",
       " -32.6406498927008,\n",
       " 50.31069583009946,\n",
       " -24.317643750207957,\n",
       " -30.935808986104504,\n",
       " -60.1958932283288]"
      ]
     },
     "execution_count": 3,
     "metadata": {},
     "output_type": "execute_result"
    }
   ],
   "source": [
    "x = 1\n",
    "latitudes = []\n",
    "while x < 11:\n",
    "    random_lat = random.randint(-90, 89) + random.random()\n",
    "    latitudes.append(random_lat)\n",
    "    x += 1\n",
    "\n",
    "latitudes"
   ]
  },
  {
   "cell_type": "code",
   "execution_count": 4,
   "metadata": {},
   "outputs": [
    {
     "data": {
      "text/plain": [
       "[53.436713269775794,\n",
       " 6.407320205525593,\n",
       " -125.7255421948127,\n",
       " 3.6762239853699157,\n",
       " 119.61242049171125,\n",
       " 43.651134382076236,\n",
       " 14.867023971859538,\n",
       " 31.68760775438284,\n",
       " 151.84866972068215,\n",
       " -113.97197739625643]"
      ]
     },
     "execution_count": 4,
     "metadata": {},
     "output_type": "execute_result"
    }
   ],
   "source": [
    "x = 1\n",
    "longitudes = []\n",
    "while x < 11:\n",
    "    random_long = random.uniform(-180,179)\n",
    "    longitudes.append(random_long)\n",
    "    x += 1\n",
    "\n",
    "longitudes"
   ]
  },
  {
   "cell_type": "code",
   "execution_count": 5,
   "metadata": {},
   "outputs": [
    {
     "name": "stdout",
     "output_type": "stream",
     "text": [
      "23.8 µs ± 1.97 µs per loop (mean ± std. dev. of 7 runs, 10000 loops each)\n"
     ]
    }
   ],
   "source": [
    "# Import timeit.\n",
    "import timeit\n",
    "\n",
    "np.random.uniform(-90.000, 90.000, size=1500)\n",
    "%timeit np.random.uniform(-90.000, 90.000, size=1500)"
   ]
  },
  {
   "cell_type": "code",
   "execution_count": 6,
   "metadata": {},
   "outputs": [
    {
     "name": "stdout",
     "output_type": "stream",
     "text": [
      "2.96 ms ± 273 µs per loop (mean ± std. dev. of 7 runs, 100 loops each)\n"
     ]
    }
   ],
   "source": [
    "def latitudes(size):\n",
    "    latitudes = []\n",
    "    x = 0\n",
    "    while x < (size):\n",
    "        random_lat = random.randint(-90, 90) + random.random()\n",
    "        latitudes.append(random_lat)\n",
    "        x += 1\n",
    "    return latitudes\n",
    "# Call the function with 1500.\n",
    "%timeit latitudes(1500)"
   ]
  },
  {
   "cell_type": "code",
   "execution_count": 8,
   "metadata": {},
   "outputs": [],
   "source": [
    "# Import linear regression from the SciPy stats module.\n",
    "from scipy.stats import linregress\n",
    "\n",
    "# Create an equal number of latitudes and temperatures.\n",
    "lats = [42.5, 43.9, 8.1, 36.8, 79.9, 69.1, 25.7, 15.3, 12.7, 64.5]\n",
    "temps = [80.5, 75.3, 90.9, 90.0, 40.4, 62.3, 85.4, 79.6, 72.5, 72.0]"
   ]
  },
  {
   "cell_type": "code",
   "execution_count": 9,
   "metadata": {},
   "outputs": [
    {
     "name": "stdout",
     "output_type": "stream",
     "text": [
      "y = -0.45x + 92.94\n",
      "The p-value is: 0.011\n"
     ]
    }
   ],
   "source": [
    "# Perform linear regression.\n",
    "(slope, intercept, r_value, p_value, std_err) = linregress(lats, temps)\n",
    "# Get the equation of the line.\n",
    "line_eq = \"y = \" + str(round(slope,2)) + \"x + \" + str(round(intercept,2))\n",
    "print(line_eq)\n",
    "print(f\"The p-value is: {p_value:.3f}\")"
   ]
  },
  {
   "cell_type": "code",
   "execution_count": null,
   "metadata": {},
   "outputs": [],
   "source": [
    "# Calculate the regression line \"y values\" from the slope and intercept.\n",
    "regress_values = [(lat * slope + intercept) for lat in lats]\n",
    "regress_values"
   ]
  },
  {
   "cell_type": "code",
   "execution_count": 13,
   "metadata": {},
   "outputs": [
    {
     "data": {
      "image/png": "[encoded data removed]",
      "text/plain": [
       "<Figure size 432x288 with 1 Axes>"
      ]
     },
     "metadata": {
      "needs_background": "light"
     },
     "output_type": "display_data"
    }
   ],
   "source": [
    "# Import Matplotlib.\n",
    "import matplotlib.pyplot as plt\n",
    "# Create a scatter plot of the x and y values.\n",
    "plt.scatter(lats,temps)\n",
    "# Plot the regression line with the x-values and the y coordinates based on the intercept and slope.\n",
    "plt.plot(lats,regress_values,\"r\")\n",
    "# Annotate the text for the line equation and add its coordinates.\n",
    "plt.annotate(line_eq, (50,90), fontsize=15, color=\"red\")\n",
    "plt.xlabel('Latitude')\n",
    "plt.ylabel('Temp')\n",
    "plt.show()"
   ]
  }
 ],
 "metadata": {
  "interpreter": {
   "hash": "3aa4caedcba6e21436cec6839eaed3ef0098b34bd60a24d6679d33aed2748339"
  },
  "kernelspec": {
   "display_name": "Python 3.9.7 ('PyhtonData')",
   "language": "python",
   "name": "python3"
  },
  "language_info": {
   "codemirror_mode": {
    "name": "ipython",
    "version": 3
   },
   "file_extension": ".py",
   "mimetype": "text/x-python",
   "name": "python",
   "nbconvert_exporter": "python",
   "pygments_lexer": "ipython3",
   "version": "3.9.7"
  },
  "orig_nbformat": 4
 },
 "nbformat": 4,
 "nbformat_minor": 2
}
